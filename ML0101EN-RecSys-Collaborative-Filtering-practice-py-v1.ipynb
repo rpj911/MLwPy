{
 "cells": [
  {
   "cell_type": "markdown",
   "metadata": {},
   "source": [
    "<a href=\"https://www.bigdatauniversity.com\"><img src = \"https://ibm.box.com/shared/static/cw2c7r3o20w9zn8gkecaeyjhgw3xdgbj.png\" width = 400, align = \"center\"></a>\n",
    "\n",
    "# <center>Collaborative Filtering</center>"
   ]
  },
  {
   "cell_type": "markdown",
   "metadata": {},
   "source": [
    "In this lab exercise, you will learn about a <b>Collaborative Filtering</b>."
   ]
  },
  {
   "cell_type": "markdown",
   "metadata": {},
   "source": [
    "# <u>A simple insight into Collaborative Filtering</u>"
   ]
  },
  {
   "cell_type": "markdown",
   "metadata": {},
   "source": [
    "Building a <b>recommendation system</b> can be quite difficult sometimes. Here we will build a <b>simple</b> recommendation system to give <b>insight</b> rather than the <b>technical construction</b> of one."
   ]
  },
  {
   "cell_type": "markdown",
   "metadata": {},
   "source": [
    "Here is a <b>simple database</b> containing <b>users</b>, <b>movies</b> they have watched, and the <b>ratings</b>."
   ]
  },
  {
   "cell_type": "code",
   "execution_count": null,
   "metadata": {},
   "outputs": [],
   "source": [
    "data = {\"Jacob\": {\"The Avengers\": 3.0, \"The Martin\": 4.0, \"Guardians of the Galaxy\": 3.5, \"Edge of Tomorrow\": 5.0, \"The Maze Runner\": 3.0},\n",
    "     \"Jane\": {\"The Avengers\": 3.0, \"The Martin\": 4.0, \"Guardians of the Galaxy\": 4.0, \"Edge of Tomorrow\": 3.0, \"The Maze Runner\": 3.0, \"Unbroken\": 4.5},\n",
    "     \"Jim\": {\"The Martin\": 1.0, \"Guardians of the Galaxy\": 2.0, \"Edge of Tomorrow\": 5.0, \"The Maze Runner\": 4.5, \"Unbroken\": 2.0}}"
   ]
  },
  {
   "cell_type": "markdown",
   "metadata": {},
   "source": [
    "We can obtain the <b>movies watched</b> and <b>ratings</b> by using the <b>get</b> function and specifying the <b>user</b>."
   ]
  },
  {
   "cell_type": "code",
   "execution_count": null,
   "metadata": {
    "scrolled": false
   },
   "outputs": [],
   "source": [
    "data.get(\"Jacob\")"
   ]
  },
  {
   "cell_type": "markdown",
   "metadata": {},
   "source": [
    "We can also find the <b>movies</b> that have been <b>watched by Jacob and Jane</b> by using the <b>intersection</b> of both sets. We will save this as a <b>list</b> in <b>common_movies</b> for later use."
   ]
  },
  {
   "cell_type": "code",
   "execution_count": null,
   "metadata": {
    "collapsed": true
   },
   "outputs": [],
   "source": [
    "common_movies = list(set(data.get(\"Jacob\")).intersection(data.get(\"Jane\")))"
   ]
  },
  {
   "cell_type": "markdown",
   "metadata": {},
   "source": [
    "Similarly, we can find <b>possible recommendations</b> by finding the <b>movies</b> that <b>Jane</b> <b>has watched</b> and the ones <b>Jacob</b> <b>has not</b>. This can be acomplished by using the <b>difference</b> function. Some recommendation systems will use <b>Collaborative Filtering</b> to looking for people that <b>rate movies similar</b> to pull <b>recommendations</b> from their <b>watched list</b>. "
   ]
  },
  {
   "cell_type": "code",
   "execution_count": null,
   "metadata": {
    "collapsed": true
   },
   "outputs": [],
   "source": [
    "recommendation = list(set(data.get(\"Jane\")).difference(data.get(\"Jacob\")))"
   ]
  },
  {
   "cell_type": "markdown",
   "metadata": {},
   "source": [
    "## Practice \n",
    "Now let's <b>print</b> the <b>common_movies</b> and <b>recommendation</b> to take a look if they <b>match</b> the <b>dataset</b>."
   ]
  },
  {
   "cell_type": "code",
   "execution_count": null,
   "metadata": {},
   "outputs": [],
   "source": [
    "# write your code here\n",
    "\n",
    "\n"
   ]
  },
  {
   "cell_type": "markdown",
   "metadata": {},
   "source": [
    "Double-click __here__ for the solution.\n",
    "<!-- your answer is below:\n",
    "print (common_movies)\n",
    "print (recommendation)    \n",
    "-->"
   ]
  },
  {
   "cell_type": "markdown",
   "metadata": {},
   "source": [
    "Perfect! They should match up quite well. Now we'll be using this <b>similar_mean</b> function to compute the <b>average difference</b> in <b>rating</b>. This will tell if ratings on the movies are <b>similar</b>, or not. We'll have <b>threshold</b> of <b>1 rating</b> or less to consider the <b>recommendation</b> an <b>adequate one</b>. "
   ]
  },
  {
   "cell_type": "code",
   "execution_count": null,
   "metadata": {
    "collapsed": true
   },
   "outputs": [],
   "source": [
    "def similar_mean(same_movies, user1, user2, dataset):\n",
    "    total = 0\n",
    "    for movie in same_movies:\n",
    "        total += abs(dataset.get(user1).get(movie) - dataset.get(user2).get(movie))\n",
    "    return total/len(same_movies)"
   ]
  },
  {
   "cell_type": "markdown",
   "metadata": {},
   "source": [
    "Now we will print the <b>average</b> using <b>similar_mean</b> function with the parameters <b>common_movies</b>, <b>\"Jacob\"</b>, <b>\"Jane\"</b>, and <b>data</b>."
   ]
  },
  {
   "cell_type": "code",
   "execution_count": null,
   "metadata": {
    "scrolled": true
   },
   "outputs": [],
   "source": [
    "print(similar_mean(common_movies, \"Jacob\", \"Jane\", data))"
   ]
  },
  {
   "cell_type": "markdown",
   "metadata": {},
   "source": [
    "Since we have a average difference in rating of <b>0.5</b>. The <b>recommendation</b> of <b>'Unbroken'</b> should be a <b>good</b> watch for <b>Jacob</b>!"
   ]
  },
  {
   "cell_type": "markdown",
   "metadata": {},
   "source": [
    "## Practice \n",
    "Now let's try to find a <b>recommendation</b> that is good for <b>Jim</b> from <b>Jacob's info</b>. Let's define <b>common_movies2</b> as the <b>list of common movies</b> between the two."
   ]
  },
  {
   "cell_type": "code",
   "execution_count": null,
   "metadata": {},
   "outputs": [],
   "source": [
    "# write your code here\n",
    "\n",
    "\n"
   ]
  },
  {
   "cell_type": "markdown",
   "metadata": {},
   "source": [
    "Double-click __here__ for the solution.\n",
    "<!-- your answer is below:\n",
    "common_movies2 = list(set(data.get(\"Jacob\")).intersection(data.get(\"Jim\")))\n",
    "print(common_movies2) \n",
    "-->"
   ]
  },
  {
   "cell_type": "markdown",
   "metadata": {},
   "source": [
    "Now that we have the common movies. Let's define <b>recommendations2</b> as the movies <b>Jim hasn't watched</b> that \n",
    "<b>Jacob has</b>. This is a <b>possible</b> recommendation."
   ]
  },
  {
   "cell_type": "code",
   "execution_count": null,
   "metadata": {
    "collapsed": true
   },
   "outputs": [],
   "source": [
    "recommendation2 = list(set(data.get(\"Jacob\")).difference(data.get(\"Jim\")))\n",
    "print(recommendation2)"
   ]
  },
  {
   "cell_type": "markdown",
   "metadata": {},
   "source": [
    "<b>Awesome!</b> It should match with __recommendation__.\n",
    "\n",
    "Now let's print out the <b>average difference in rating</b> using <b>similar_mean</b> with parameters <b>common_movies2</b>, <b>\"Jacob\"</b>, <b>\"Jim\"</b> and <b>data</b>."
   ]
  },
  {
   "cell_type": "code",
   "execution_count": null,
   "metadata": {},
   "outputs": [],
   "source": [
    "print(similar_mean(common_movies2, \"Jacob\", \"Jim\", data))"
   ]
  },
  {
   "cell_type": "markdown",
   "metadata": {},
   "source": [
    "Since the <b>average difference in rating</b> is <b>larger</b> than our <b>1.0 threshold</b>, <b>'The Avengers'</b> would <b>not</b> be a <b>good recommendation</b> for <b>Jim</b>."
   ]
  },
  {
   "cell_type": "markdown",
   "metadata": {},
   "source": [
    "Now this example is not a good technical view of a recommendation system, however it is a good way to provide <b>insight</b> on <b>understanding</b> how a <b>recommendation system</b> works and how it considers <b>ratings</b>, <b>user</b>, and <b>movies</b> (or <b>products</b>)."
   ]
  },
  {
   "cell_type": "markdown",
   "metadata": {},
   "source": [
    "## Want to learn more?\n",
    "\n",
    "IBM SPSS Modeler is a comprehensive analytics platform that has many machine learning algorithms. It has been designed to bring predictive intelligence to decisions made by individuals, by groups, by systems – by your enterprise as a whole. A free trial is available through this course, available here: [SPSS Modeler](http://cocl.us/ML0101EN-SPSSModeler).\n",
    "\n",
    "Also, you can use Watson Studio to run these notebooks faster with bigger datasets. Watson Studio is IBM's leading cloud solution for data scientists, built by data scientists. With Jupyter notebooks, RStudio, Apache Spark and popular libraries pre-packaged in the cloud, Watson Studio enables data scientists to collaborate on their projects without having to install anything. Join the fast-growing community of Watson Studio users today with a free account at [Watson Studio](https://cocl.us/ML0101EN_DSX)\n",
    "\n",
    "### Thanks for completing this lesson!\n",
    "\n",
    "\n",
    "<hr>\n",
    "\n",
    "Copyright &copy; 2018 [Cognitive Class](https://cocl.us/DX0108EN_CC). This notebook and its source code are released under the terms of the [MIT License](https://bigdatauniversity.com/mit-license/).​"
   ]
  }
 ],
 "metadata": {
  "kernelspec": {
   "display_name": "Python 3",
   "language": "python",
   "name": "python3"
  },
  "language_info": {
   "codemirror_mode": {
    "name": "ipython",
    "version": 3
   },
   "file_extension": ".py",
   "mimetype": "text/x-python",
   "name": "python",
   "nbconvert_exporter": "python",
   "pygments_lexer": "ipython3",
   "version": "3.6.5"
  },
  "widgets": {
   "state": {},
   "version": "1.1.2"
  }
 },
 "nbformat": 4,
 "nbformat_minor": 2
}
